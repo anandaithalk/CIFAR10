{
 "cells": [
  {
   "cell_type": "markdown",
   "metadata": {},
   "source": [
    "### Image classication of CIFAR10 dataset using CNN."
   ]
  },
  {
   "cell_type": "code",
   "execution_count": 1,
   "metadata": {},
   "outputs": [],
   "source": [
    "import numpy as np\n",
    "from keras.models import Sequential\n",
    "from keras.layers import Dense, Dropout, Flatten, BatchNormalization, Activation\n",
    "from keras.layers.convolutional import Conv2D, MaxPooling2D\n",
    "from keras.constraints import max_norm\n",
    "from keras.utils import np_utils\n",
    "import matplotlib.pyplot as plt\n"
   ]
  },
  {
   "cell_type": "code",
   "execution_count": 2,
   "metadata": {},
   "outputs": [],
   "source": [
    "seed = 20"
   ]
  },
  {
   "cell_type": "code",
   "execution_count": 3,
   "metadata": {},
   "outputs": [],
   "source": [
    "# importing the dataset.\n",
    "\n",
    "from keras.datasets import cifar10\n"
   ]
  },
  {
   "cell_type": "code",
   "execution_count": 4,
   "metadata": {},
   "outputs": [],
   "source": [
    "# Loading the dataset.\n",
    "\n",
    "(X_train, y_train), (X_test, y_test) = cifar10.load_data()"
   ]
  },
  {
   "cell_type": "code",
   "execution_count": 5,
   "metadata": {},
   "outputs": [
    {
     "name": "stdout",
     "output_type": "stream",
     "text": [
      "[[[53 65 53]\n",
      "  [54 63 52]\n",
      "  [56 60 50]\n",
      "  ...\n",
      "  [47 51 50]\n",
      "  [41 45 44]\n",
      "  [24 28 27]]\n",
      "\n",
      " [[46 59 41]\n",
      "  [53 62 45]\n",
      "  [54 59 44]\n",
      "  ...\n",
      "  [42 46 45]\n",
      "  [39 43 42]\n",
      "  [28 32 31]]\n",
      "\n",
      " [[45 59 38]\n",
      "  [50 60 41]\n",
      "  [46 52 34]\n",
      "  ...\n",
      "  [38 42 41]\n",
      "  [36 40 39]\n",
      "  [29 33 32]]\n",
      "\n",
      " ...\n",
      "\n",
      " [[71 83 66]\n",
      "  [74 83 66]\n",
      "  [80 85 67]\n",
      "  ...\n",
      "  [51 54 33]\n",
      "  [46 49 34]\n",
      "  [49 50 41]]\n",
      "\n",
      " [[75 82 67]\n",
      "  [79 85 69]\n",
      "  [81 85 67]\n",
      "  ...\n",
      "  [61 65 41]\n",
      "  [64 67 48]\n",
      "  [48 50 41]]\n",
      "\n",
      " [[85 83 71]\n",
      "  [85 84 71]\n",
      "  [86 86 70]\n",
      "  ...\n",
      "  [61 65 39]\n",
      "  [64 67 46]\n",
      "  [49 50 41]]]\n"
     ]
    }
   ],
   "source": [
    "#Verifying the train data.\n",
    "print(X_train[10])"
   ]
  },
  {
   "cell_type": "code",
   "execution_count": 6,
   "metadata": {},
   "outputs": [
    {
     "data": {
      "text/plain": [
       "<matplotlib.image.AxesImage at 0x2e8f88d4730>"
      ]
     },
     "execution_count": 6,
     "metadata": {},
     "output_type": "execute_result"
    },
    {
     "data": {
      "image/png": "[encoded data removed]",
      "text/plain": [
       "<Figure size 432x288 with 1 Axes>"
      ]
     },
     "metadata": {
      "needs_background": "light"
     },
     "output_type": "display_data"
    }
   ],
   "source": [
    "plt.imshow(X_train[10])"
   ]
  },
  {
   "cell_type": "code",
   "execution_count": 7,
   "metadata": {},
   "outputs": [],
   "source": [
    "# Normalzing the inputs.\n",
    "\n",
    "X_train = X_train / 255.0\n",
    "X_test = X_test / 255.0"
   ]
  },
  {
   "cell_type": "code",
   "execution_count": 8,
   "metadata": {},
   "outputs": [],
   "source": [
    "# One hot encoding of the output.\n",
    "\n",
    "y_train = np_utils.to_categorical(y_train)\n",
    "y_test = np_utils.to_categorical(y_test)\n",
    "class_num = y_test.shape[1]"
   ]
  },
  {
   "cell_type": "code",
   "execution_count": 9,
   "metadata": {},
   "outputs": [],
   "source": [
    "# Designing the model.\n",
    "\n",
    "model = Sequential()"
   ]
  },
  {
   "cell_type": "code",
   "execution_count": 10,
   "metadata": {},
   "outputs": [],
   "source": [
    "# Defining the Convolution Layer.\n",
    "\n",
    "model.add(Conv2D(32,(3,3), input_shape = X_train.shape[1:], padding = \"same\"))\n",
    "model.add(Activation(\"relu\"))"
   ]
  },
  {
   "cell_type": "code",
   "execution_count": 11,
   "metadata": {},
   "outputs": [],
   "source": [
    "# Dropout Layer.\n",
    "\n",
    "model.add(Dropout(0.2))"
   ]
  },
  {
   "cell_type": "code",
   "execution_count": 12,
   "metadata": {},
   "outputs": [],
   "source": [
    "# Batch Normalization.\n",
    "\n",
    "model.add(BatchNormalization())"
   ]
  },
  {
   "cell_type": "code",
   "execution_count": 13,
   "metadata": {},
   "outputs": [],
   "source": [
    "# Convolution Layer 2.\n",
    "\n",
    "model.add(Conv2D(64,(3,3), input_shape = X_train.shape[1:], padding = \"same\"))\n",
    "model.add(Activation(\"relu\"))"
   ]
  },
  {
   "cell_type": "code",
   "execution_count": 14,
   "metadata": {},
   "outputs": [],
   "source": [
    "model.add(MaxPooling2D(pool_size=(2,2)))\n",
    "model.add(Dropout(0.2))\n",
    "model.add(BatchNormalization())\n"
   ]
  },
  {
   "cell_type": "code",
   "execution_count": 15,
   "metadata": {},
   "outputs": [],
   "source": [
    "model.add(Conv2D(64,(3,3), input_shape = X_train.shape[1:], padding = \"same\"))\n",
    "model.add(Activation(\"relu\"))\n",
    "model.add(MaxPooling2D(pool_size=(2,2)))\n",
    "model.add(Dropout(0.2))\n",
    "model.add(BatchNormalization())\n",
    "\n"
   ]
  },
  {
   "cell_type": "code",
   "execution_count": 16,
   "metadata": {},
   "outputs": [],
   "source": [
    "model.add(Conv2D(128,(3,3), input_shape = X_train.shape[1:], padding = \"same\"))\n",
    "model.add(Activation(\"relu\"))\n",
    "model.add(MaxPooling2D(pool_size=(2,2)))\n",
    "model.add(Dropout(0.2))\n",
    "model.add(BatchNormalization())"
   ]
  },
  {
   "cell_type": "code",
   "execution_count": 17,
   "metadata": {},
   "outputs": [],
   "source": [
    "model.add(Flatten())\n",
    "model.add(Dropout(0.2))"
   ]
  },
  {
   "cell_type": "code",
   "execution_count": 18,
   "metadata": {},
   "outputs": [],
   "source": [
    "model.add(Dense(256, kernel_constraint=max_norm(3)))\n",
    "model.add(Activation('relu'))\n",
    "model.add(Dropout(0.2))\n",
    "model.add(BatchNormalization())\n",
    "\n",
    "model.add(Dense(128, kernel_constraint=max_norm(3)))\n",
    "model.add(Activation('relu'))\n",
    "model.add(Dropout(0.2))\n",
    "model.add(BatchNormalization())"
   ]
  },
  {
   "cell_type": "code",
   "execution_count": 19,
   "metadata": {},
   "outputs": [],
   "source": [
    "model.add(Dense(class_num))\n",
    "model.add(Activation('softmax'))\n"
   ]
  },
  {
   "cell_type": "code",
   "execution_count": 20,
   "metadata": {},
   "outputs": [],
   "source": [
    "# Number of epochs and optimizer (Dependable).\n",
    "\n",
    "epochs = 25\n",
    "optimizer ='adam'"
   ]
  },
  {
   "cell_type": "code",
   "execution_count": 21,
   "metadata": {},
   "outputs": [],
   "source": [
    "# Compiling the model.\n",
    "\n",
    "model.compile(loss='categorical_crossentropy', optimizer=optimizer, metrics=['accuracy'])"
   ]
  },
  {
   "cell_type": "code",
   "execution_count": 22,
   "metadata": {},
   "outputs": [
    {
     "name": "stdout",
     "output_type": "stream",
     "text": [
      "Model: \"sequential\"\n",
      "_________________________________________________________________\n",
      " Layer (type)                Output Shape              Param #   \n",
      "=================================================================\n",
      " conv2d (Conv2D)             (None, 32, 32, 32)        896       \n",
      "                                                                 \n",
      " activation (Activation)     (None, 32, 32, 32)        0         \n",
      "                                                                 \n",
      " dropout (Dropout)           (None, 32, 32, 32)        0         \n",
      "                                                                 \n",
      " batch_normalization (BatchN  (None, 32, 32, 32)       128       \n",
      " ormalization)                                                   \n",
      "                                                                 \n",
      " conv2d_1 (Conv2D)           (None, 32, 32, 64)        18496     \n",
      "                                                                 \n",
      " activation_1 (Activation)   (None, 32, 32, 64)        0         \n",
      "                                                                 \n",
      " max_pooling2d (MaxPooling2D  (None, 16, 16, 64)       0         \n",
      " )                                                               \n",
      "                                                                 \n",
      " dropout_1 (Dropout)         (None, 16, 16, 64)        0         \n",
      "                                                                 \n",
      " batch_normalization_1 (Batc  (None, 16, 16, 64)       256       \n",
      " hNormalization)                                                 \n",
      "                                                                 \n",
      " conv2d_2 (Conv2D)           (None, 16, 16, 64)        36928     \n",
      "                                                                 \n",
      " activation_2 (Activation)   (None, 16, 16, 64)        0         \n",
      "                                                                 \n",
      " max_pooling2d_1 (MaxPooling  (None, 8, 8, 64)         0         \n",
      " 2D)                                                             \n",
      "                                                                 \n",
      " dropout_2 (Dropout)         (None, 8, 8, 64)          0         \n",
      "                                                                 \n",
      " batch_normalization_2 (Batc  (None, 8, 8, 64)         256       \n",
      " hNormalization)                                                 \n",
      "                                                                 \n",
      " conv2d_3 (Conv2D)           (None, 8, 8, 128)         73856     \n",
      "                                                                 \n",
      " activation_3 (Activation)   (None, 8, 8, 128)         0         \n",
      "                                                                 \n",
      " max_pooling2d_2 (MaxPooling  (None, 4, 4, 128)        0         \n",
      " 2D)                                                             \n",
      "                                                                 \n",
      " dropout_3 (Dropout)         (None, 4, 4, 128)         0         \n",
      "                                                                 \n",
      " batch_normalization_3 (Batc  (None, 4, 4, 128)        512       \n",
      " hNormalization)                                                 \n",
      "                                                                 \n",
      " flatten (Flatten)           (None, 2048)              0         \n",
      "                                                                 \n",
      " dropout_4 (Dropout)         (None, 2048)              0         \n",
      "                                                                 \n",
      " dense (Dense)               (None, 256)               524544    \n",
      "                                                                 \n",
      " activation_4 (Activation)   (None, 256)               0         \n",
      "                                                                 \n",
      " dropout_5 (Dropout)         (None, 256)               0         \n",
      "                                                                 \n",
      " batch_normalization_4 (Batc  (None, 256)              1024      \n",
      " hNormalization)                                                 \n",
      "                                                                 \n",
      " dense_1 (Dense)             (None, 128)               32896     \n",
      "                                                                 \n",
      " activation_5 (Activation)   (None, 128)               0         \n",
      "                                                                 \n",
      " dropout_6 (Dropout)         (None, 128)               0         \n",
      "                                                                 \n",
      " batch_normalization_5 (Batc  (None, 128)              512       \n",
      " hNormalization)                                                 \n",
      "                                                                 \n",
      " dense_2 (Dense)             (None, 10)                1290      \n",
      "                                                                 \n",
      " activation_6 (Activation)   (None, 10)                0         \n",
      "                                                                 \n",
      "=================================================================\n",
      "Total params: 691,594\n",
      "Trainable params: 690,250\n",
      "Non-trainable params: 1,344\n",
      "_________________________________________________________________\n",
      "None\n"
     ]
    }
   ],
   "source": [
    "print(model.summary())"
   ]
  },
  {
   "cell_type": "code",
   "execution_count": 23,
   "metadata": {},
   "outputs": [
    {
     "name": "stdout",
     "output_type": "stream",
     "text": [
      "Epoch 1/25\n",
      "782/782 [==============================] - 180s 227ms/step - loss: 1.6164 - accuracy: 0.4244 - val_loss: 1.5886 - val_accuracy: 0.4378\n",
      "Epoch 2/25\n",
      "782/782 [==============================] - 185s 236ms/step - loss: 1.1420 - accuracy: 0.5896 - val_loss: 0.9701 - val_accuracy: 0.6549\n",
      "Epoch 3/25\n",
      "782/782 [==============================] - 196s 250ms/step - loss: 0.9444 - accuracy: 0.6660 - val_loss: 0.9592 - val_accuracy: 0.6671\n",
      "Epoch 4/25\n",
      "782/782 [==============================] - 172s 220ms/step - loss: 0.8432 - accuracy: 0.7042 - val_loss: 0.7326 - val_accuracy: 0.7465\n",
      "Epoch 5/25\n",
      "782/782 [==============================] - 182s 232ms/step - loss: 0.7766 - accuracy: 0.7278 - val_loss: 0.8431 - val_accuracy: 0.7093\n",
      "Epoch 6/25\n",
      "782/782 [==============================] - 187s 239ms/step - loss: 0.7172 - accuracy: 0.7499 - val_loss: 0.6198 - val_accuracy: 0.7842\n",
      "Epoch 7/25\n",
      "782/782 [==============================] - 198s 253ms/step - loss: 0.6786 - accuracy: 0.7638 - val_loss: 0.6420 - val_accuracy: 0.7767\n",
      "Epoch 8/25\n",
      "782/782 [==============================] - 198s 253ms/step - loss: 0.6437 - accuracy: 0.7753 - val_loss: 0.6338 - val_accuracy: 0.7823\n",
      "Epoch 9/25\n",
      "782/782 [==============================] - 199s 255ms/step - loss: 0.6150 - accuracy: 0.7854 - val_loss: 0.6205 - val_accuracy: 0.7846\n",
      "Epoch 10/25\n",
      "782/782 [==============================] - 176s 225ms/step - loss: 0.5943 - accuracy: 0.7920 - val_loss: 0.5615 - val_accuracy: 0.8049\n",
      "Epoch 11/25\n",
      "782/782 [==============================] - 165s 211ms/step - loss: 0.5707 - accuracy: 0.8001 - val_loss: 0.5450 - val_accuracy: 0.8112\n",
      "Epoch 12/25\n",
      "782/782 [==============================] - 174s 222ms/step - loss: 0.5556 - accuracy: 0.8061 - val_loss: 0.5542 - val_accuracy: 0.8110\n",
      "Epoch 13/25\n",
      "782/782 [==============================] - 173s 221ms/step - loss: 0.5472 - accuracy: 0.8100 - val_loss: 0.5129 - val_accuracy: 0.8235\n",
      "Epoch 14/25\n",
      "782/782 [==============================] - 152s 195ms/step - loss: 0.5297 - accuracy: 0.8144 - val_loss: 0.5354 - val_accuracy: 0.8176\n",
      "Epoch 15/25\n",
      "782/782 [==============================] - 178s 228ms/step - loss: 0.5171 - accuracy: 0.8188 - val_loss: 0.5159 - val_accuracy: 0.8246\n",
      "Epoch 16/25\n",
      "782/782 [==============================] - 156s 199ms/step - loss: 0.5011 - accuracy: 0.8241 - val_loss: 0.5374 - val_accuracy: 0.8144\n",
      "Epoch 17/25\n",
      "782/782 [==============================] - 152s 194ms/step - loss: 0.4900 - accuracy: 0.8279 - val_loss: 0.5720 - val_accuracy: 0.8075\n",
      "Epoch 18/25\n",
      "782/782 [==============================] - 179s 229ms/step - loss: 0.5069 - accuracy: 0.8228 - val_loss: 0.5137 - val_accuracy: 0.8247\n",
      "Epoch 19/25\n",
      "782/782 [==============================] - 170s 217ms/step - loss: 0.4795 - accuracy: 0.8307 - val_loss: 0.5021 - val_accuracy: 0.8281\n",
      "Epoch 20/25\n",
      "782/782 [==============================] - 147s 188ms/step - loss: 0.4608 - accuracy: 0.8401 - val_loss: 0.5122 - val_accuracy: 0.8250\n",
      "Epoch 21/25\n",
      "782/782 [==============================] - 150s 192ms/step - loss: 0.4675 - accuracy: 0.8355 - val_loss: 0.4787 - val_accuracy: 0.8376\n",
      "Epoch 22/25\n",
      "782/782 [==============================] - 155s 198ms/step - loss: 0.4563 - accuracy: 0.8405 - val_loss: 0.5671 - val_accuracy: 0.8078\n",
      "Epoch 23/25\n",
      "782/782 [==============================] - 162s 207ms/step - loss: 0.4483 - accuracy: 0.8408 - val_loss: 0.4986 - val_accuracy: 0.8302\n",
      "Epoch 24/25\n",
      "782/782 [==============================] - 163s 208ms/step - loss: 0.4437 - accuracy: 0.8441 - val_loss: 0.4850 - val_accuracy: 0.8381\n",
      "Epoch 25/25\n",
      "782/782 [==============================] - 174s 223ms/step - loss: 0.4391 - accuracy: 0.8456 - val_loss: 0.5027 - val_accuracy: 0.8306\n"
     ]
    },
    {
     "data": {
      "text/plain": [
       "<keras.callbacks.History at 0x2e8f6a5ad30>"
      ]
     },
     "execution_count": 23,
     "metadata": {},
     "output_type": "execute_result"
    }
   ],
   "source": [
    "np.random.seed(seed)\n",
    "model.fit(X_train, y_train, validation_data=(X_test,y_test),epochs=epochs, batch_size=64)"
   ]
  },
  {
   "cell_type": "code",
   "execution_count": 24,
   "metadata": {},
   "outputs": [
    {
     "name": "stdout",
     "output_type": "stream",
     "text": [
      "Accuracy of the model is 83.06%\n"
     ]
    }
   ],
   "source": [
    "# Evaluating the Model.\n",
    "\n",
    "Model_Score = model.evaluate(X_test, y_test, verbose=0)\n",
    "print(\"Accuracy of the model is %.2f%%\" % (Model_Score[1]*100))"
   ]
  },
  {
   "cell_type": "code",
   "execution_count": null,
   "metadata": {},
   "outputs": [],
   "source": []
  }
 ],
 "metadata": {
  "interpreter": {
   "hash": "29ac8f5334ebd62e2ebf4906a88b140119f2d073e530907a91d1eb26358361fb"
  },
  "kernelspec": {
   "display_name": "Python 3.9.7 ('base')",
   "language": "python",
   "name": "python3"
  },
  "language_info": {
   "codemirror_mode": {
    "name": "ipython",
    "version": 3
   },
   "file_extension": ".py",
   "mimetype": "text/x-python",
   "name": "python",
   "nbconvert_exporter": "python",
   "pygments_lexer": "ipython3",
   "version": "3.9.7"
  },
  "orig_nbformat": 4
 },
 "nbformat": 4,
 "nbformat_minor": 2
}
